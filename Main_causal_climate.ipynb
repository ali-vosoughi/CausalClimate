{
 "cells": [
  {
   "cell_type": "code",
   "execution_count": 1,
   "metadata": {
    "scrolled": true
   },
   "outputs": [
    {
     "name": "stdout",
     "output_type": "stream",
     "text": [
      "Could not import packages for CMIknn and GPDC estimation\n",
      "Could not import packages for CMIknn and GPDC estimation\n"
     ]
    }
   ],
   "source": [
    "import numpy as np\n",
    "from scipy import stats, io, signal, linalg\n",
    "import seaborn as sns\n",
    "import matplotlib.pyplot as plt\n",
    "from sklearn.decomposition import PCA, KernelPCA\n",
    "from scipy.spatial.distance import squareform, pdist\n",
    "from scipy.stats import kendalltau\n",
    "from sklearn.model_selection import StratifiedShuffleSplit\n",
    "from sklearn.svm import SVC\n",
    "from sklearn import metrics\n",
    "from nilearn.datasets.utils import _uncompress_file, _fetch_file\n",
    "import warnings\n",
    "from os.path import join\n",
    "import os\n",
    "from statsmodels.tsa.api import VAR\n",
    "from idtxl.multivariate_mi import MultivariateMI\n",
    "from idtxl.multivariate_te import MultivariateTE\n",
    "from idtxl.data import Data\n",
    "from tigramite import data_processing as pp\n",
    "from tigramite.independence_tests import ParCorr\n",
    "from tigramite.pcmci import PCMCI"
   ]
  },
  {
   "cell_type": "code",
   "execution_count": 2,
   "metadata": {},
   "outputs": [],
   "source": [
    "def normalize_0_mean_1_std(inp_series):\n",
    "    inp_series=inp_series.copy()\n",
    "    mean_ts=np.array([inp_series.mean(axis=1)]).transpose()\n",
    "    mean_ts_mtrx = mean_ts*np.ones((1,inp_series.shape[1]));\n",
    "    unb_data_mtrx = inp_series - mean_ts_mtrx\n",
    "    p = np.power(unb_data_mtrx,2)\n",
    "    s=np.array([p.sum(axis=1)]).transpose()\n",
    "    sc=np.sqrt(s/p.shape[1])\n",
    "    sc2=sc*(np.ones((1,p.shape[1])))\n",
    "    nrm= np.divide(unb_data_mtrx,sc2)\n",
    "    return nrm"
   ]
  },
  {
   "cell_type": "code",
   "execution_count": 3,
   "metadata": {
    "scrolled": true
   },
   "outputs": [],
   "source": [
    "def Clust_cent_not_separating_train_indices( outProj,param):\n",
    "    data=outProj.copy()\n",
    "    if len(data.shape)==1:\n",
    "        data=data[np.newaxis,:]\n",
    "    voxel_num, t = data.shape\n",
    "    inputi=np.zeros((t-param['win'],voxel_num,param['win']))\n",
    "    for ctrj in range(t-param['win']):\n",
    "        inputi[ctrj,:,:]=data[:,ctrj:ctrj+param['win']]\n",
    "\n",
    "    input=np.reshape(inputi,(t-param['win'],voxel_num*param['win']))\n",
    "    from sklearn.cluster import KMeans\n",
    "    kmeans = KMeans(n_clusters=param['nCodes'], random_state=0).fit(input)\n",
    "    return kmeans.cluster_centers_.transpose()"
   ]
  },
  {
   "cell_type": "code",
   "execution_count": 4,
   "metadata": {},
   "outputs": [
    {
     "data": {
      "text/plain": [
       "array([[-0.81649658,  1.63299316,  0.        ,  0.40824829, -1.22474487],\n",
       "       [-0.60302269,  0.15075567,  1.6583124 , -1.35680105,  0.15075567],\n",
       "       [ 0.66208471, -0.16552118, -1.40693001,  1.4896906 , -0.57932412],\n",
       "       [-0.57932412, -0.16552118,  0.66208471,  1.4896906 , -1.40693001]])"
      ]
     },
     "execution_count": 4,
     "metadata": {},
     "output_type": "execute_result"
    }
   ],
   "source": [
    "inp_series=np.array([[1,7,3,4,0],[1,2,4,0,2],[5,3,0,7,2],[2, 3, 5, 7, 0]])\n",
    "inp_series=normalize_0_mean_1_std(inp_series)\n",
    "inp_series"
   ]
  },
  {
   "cell_type": "code",
   "execution_count": 5,
   "metadata": {
    "scrolled": true
   },
   "outputs": [],
   "source": [
    "y=inp_series\n",
    "codes1=3\n",
    "codes2=2\n",
    "wi=2\n",
    "\n",
    "data=y\n",
    "\n",
    "outProj=data    #outProj is X  \n",
    "\n",
    "full_size=data.shape[0]\n",
    "it=1\n",
    "\n",
    "param=dict()\n",
    "param['training']=0.9\n",
    "param['nCodes'] = codes1\n",
    "param['fSigma'] =0.40\n",
    "param['win']=wi\n",
    "param['ite']=it\n",
    "\n",
    "T = outProj.shape[1] # number of time observations\n",
    "tau=1\n",
    "\n",
    "num_vecs=(T-(param['win']-1)*tau)-1;\n",
    "\n",
    "\n",
    "outputi = data[:,param['win']:].transpose()\n",
    "ClusterCtrPCA =  Clust_cent_not_separating_train_indices( outProj,param )\n",
    "\n",
    "if len(ClusterCtrPCA.shape)==2:\n",
    "    ClusterCtrPCA=ClusterCtrPCA[:,:,np.newaxis]\n",
    "\n",
    "ClusterPCAfull=ClusterCtrPCA[:,:,0]  # one run of the iteration used only to get the cluster centers\n",
    "\n",
    "param1=param\n",
    "param1['nCodes']=codes2\n",
    "clus_series=np.zeros((full_size,param['win'],param1['nCodes']))\n",
    "\n",
    "\n",
    "# size of clus_series = length of series, size of input to the network, number of codes \n",
    "for m in range(full_size):\n",
    "    clus_series[m,:,:] = Clust_cent_not_separating_train_indices(data[m,:],param1) \n",
    "    \n",
    "# one run of the iteration used only to get the cluster centers\n",
    "\n",
    "# Get activities for both training and testing for individual series\n",
    "par=param1\n",
    "curr_act_train=np.zeros((full_size,1,num_vecs,param1['nCodes']))\n",
    "\n",
    "for m in range(full_size):\n",
    "    ClusterCtr=np.squeeze(clus_series[m])\n",
    "    inp=data[m,:]\n",
    "#     curr_act_train(m,:,:,:,:) = grbf_activity_full_no_sep_train( inp,ClusterCtr,par,generalize );\n"
   ]
  },
  {
   "cell_type": "code",
   "execution_count": 13,
   "metadata": {},
   "outputs": [],
   "source": [
    "generalize=1"
   ]
  },
  {
   "cell_type": "code",
   "execution_count": 7,
   "metadata": {},
   "outputs": [
    {
     "data": {
      "text/plain": [
       "array([[1.5, 4. ],\n",
       "       [3. , 0. ]])"
      ]
     },
     "execution_count": 7,
     "metadata": {},
     "output_type": "execute_result"
    }
   ],
   "source": [
    "inp_series=np.array([[1,7,3,4,0],[1,2,4,0,2],[5,3,0,7,2],[2, 3, 5, 7, 0]])\n",
    "\n",
    "Clust_cent_not_separating_train_indices(inp_series[1,:], param)"
   ]
  }
 ],
 "metadata": {
  "kernelspec": {
   "display_name": "Python 3",
   "language": "python",
   "name": "python3"
  },
  "language_info": {
   "codemirror_mode": {
    "name": "ipython",
    "version": 3
   },
   "file_extension": ".py",
   "mimetype": "text/x-python",
   "name": "python",
   "nbconvert_exporter": "python",
   "pygments_lexer": "ipython3",
   "version": "3.7.3"
  }
 },
 "nbformat": 4,
 "nbformat_minor": 4
}
